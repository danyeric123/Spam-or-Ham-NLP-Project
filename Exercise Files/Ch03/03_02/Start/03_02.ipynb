{
 "cells": [
  {
   "cell_type": "markdown",
   "metadata": {},
   "source": [
    "# Vectorizing Raw Data: Count Vectorization"
   ]
  },
  {
   "cell_type": "markdown",
   "metadata": {},
   "source": [
    "### Count vectorization \n",
    "\n",
    "Creates a document-term matrix where the entry of each cell will be a count of the number of times that word occurred in that document."
   ]
  },
  {
   "cell_type": "markdown",
   "metadata": {},
   "source": [
    "### Read in text"
   ]
  },
  {
   "cell_type": "code",
   "execution_count": 1,
   "metadata": {
    "tags": []
   },
   "outputs": [
    {
     "name": "stderr",
     "output_type": "stream",
     "text": [
      "/Users/davidnagar/.pyenv/versions/3.9.4/lib/python3.9/site-packages/pandas/compat/__init__.py:124: UserWarning: Could not import the lzma module. Your installed Python is incomplete. Attempting to use lzma compression will result in a RuntimeError.\n",
      "  warnings.warn(msg)\n"
     ]
    }
   ],
   "source": [
    "import pandas as pd\n",
    "import re\n",
    "import string\n",
    "import nltk\n",
    "pd.set_option('display.max_colwidth', 100)\n",
    "\n",
    "stopwords = nltk.corpus.stopwords.words('english')\n",
    "ps = nltk.PorterStemmer()\n",
    "\n",
    "data = pd.read_csv(\"SMSSpamCollection.tsv\", sep='\\t')\n",
    "data.columns = ['label', 'body_text']"
   ]
  },
  {
   "cell_type": "markdown",
   "metadata": {},
   "source": [
    "### Create function to remove punctuation, tokenize, remove stopwords, and stem"
   ]
  },
  {
   "cell_type": "code",
   "execution_count": 2,
   "metadata": {
    "tags": []
   },
   "outputs": [],
   "source": [
    "def clean_text(text):\n",
    "    text = \"\".join([word.lower() for word in text if word not in string.punctuation])\n",
    "    tokens = re.split('\\W+', text)\n",
    "    text = [ps.stem(word) for word in tokens if word not in stopwords]\n",
    "    return text"
   ]
  },
  {
   "cell_type": "markdown",
   "metadata": {},
   "source": [
    "### Apply CountVectorizer"
   ]
  },
  {
   "cell_type": "code",
   "execution_count": 6,
   "metadata": {
    "tags": []
   },
   "outputs": [
    {
     "name": "stdout",
     "output_type": "stream",
     "text": [
      "  (0, 3134)\t1\n",
      "  (0, 2790)\t2\n",
      "  (0, 436)\t1\n",
      "  (0, 7816)\t1\n",
      "  (0, 2120)\t1\n",
      "  (0, 7782)\t1\n",
      "  (0, 2909)\t2\n",
      "  (0, 2288)\t1\n",
      "  (0, 3011)\t1\n",
      "  (0, 7168)\t1\n",
      "  (0, 456)\t1\n",
      "  (0, 4640)\t1\n",
      "  (0, 443)\t1\n",
      "  (0, 7027)\t1\n",
      "  (0, 879)\t1\n",
      "  (0, 5917)\t1\n",
      "  (0, 5829)\t1\n",
      "  (0, 7350)\t1\n",
      "  (0, 5876)\t1\n",
      "  (0, 1228)\t1\n",
      "  (0, 73)\t1\n",
      "  (1, 4931)\t1\n",
      "  (1, 2586)\t1\n",
      "  (1, 7095)\t1\n",
      "  (1, 3332)\t1\n",
      "  :\t:\n",
      "  (5563, 3320)\t1\n",
      "  (5563, 8101)\t1\n",
      "  (5563, 3123)\t1\n",
      "  (5563, 2818)\t1\n",
      "  (5564, 6830)\t1\n",
      "  (5564, 4833)\t1\n",
      "  (5564, 5528)\t1\n",
      "  (5564, 6528)\t1\n",
      "  (5565, 3134)\t1\n",
      "  (5565, 4369)\t1\n",
      "  (5565, 7693)\t1\n",
      "  (5565, 5015)\t1\n",
      "  (5565, 7473)\t1\n",
      "  (5565, 6550)\t1\n",
      "  (5565, 1776)\t1\n",
      "  (5565, 2748)\t1\n",
      "  (5565, 3239)\t1\n",
      "  (5565, 3462)\t1\n",
      "  (5565, 3801)\t1\n",
      "  (5565, 3916)\t1\n",
      "  (5565, 997)\t1\n",
      "  (5565, 1564)\t1\n",
      "  (5566, 4937)\t1\n",
      "  (5566, 7306)\t1\n",
      "  (5566, 6070)\t1\n"
     ]
    }
   ],
   "source": [
    "from sklearn.feature_extraction.text import CountVectorizer\n",
    "\n",
    "count_vect = CountVectorizer(analyzer=clean_text)\n",
    "X_counts = count_vect.fit_transform(data[\"body_text\"])\n",
    "print(X_counts)"
   ]
  },
  {
   "cell_type": "markdown",
   "metadata": {},
   "source": [
    "### Apply CountVectorizer to smaller sample"
   ]
  },
  {
   "cell_type": "code",
   "execution_count": 8,
   "metadata": {
    "tags": []
   },
   "outputs": [],
   "source": [
    "data_sample = data[0:20]"
   ]
  },
  {
   "cell_type": "markdown",
   "metadata": {},
   "source": [
    "### Vectorizers output sparse matrices\n",
    "\n",
    "_**Sparse Matrix**: A matrix in which most entries are 0. In the interest of efficient storage, a sparse matrix will be stored by only storing the locations of the non-zero elements._"
   ]
  },
  {
   "cell_type": "code",
   "execution_count": null,
   "metadata": {
    "collapsed": true,
    "jupyter": {
     "outputs_hidden": true
    }
   },
   "outputs": [],
   "source": []
  }
 ],
 "metadata": {
  "kernelspec": {
   "display_name": "Python 3 (ipykernel)",
   "language": "python",
   "name": "python3"
  },
  "language_info": {
   "codemirror_mode": {
    "name": "ipython",
    "version": 3
   },
   "file_extension": ".py",
   "mimetype": "text/x-python",
   "name": "python",
   "nbconvert_exporter": "python",
   "pygments_lexer": "ipython3",
   "version": "3.9.4"
  }
 },
 "nbformat": 4,
 "nbformat_minor": 4
}
